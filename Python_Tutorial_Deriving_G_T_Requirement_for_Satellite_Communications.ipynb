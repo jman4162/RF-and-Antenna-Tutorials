{
  "nbformat": 4,
  "nbformat_minor": 0,
  "metadata": {
    "colab": {
      "provenance": [],
      "authorship_tag": "ABX9TyO++WekgIjT5S01a0xJNOKy",
      "include_colab_link": true
    },
    "kernelspec": {
      "name": "python3",
      "display_name": "Python 3"
    },
    "language_info": {
      "name": "python"
    }
  },
  "cells": [
    {
      "cell_type": "markdown",
      "metadata": {
        "id": "view-in-github",
        "colab_type": "text"
      },
      "source": [
        "<a href=\"https://colab.research.google.com/github/jman4162/RF-and-Antenna-Tutorials/blob/main/Python_Tutorial_Deriving_G_T_Requirement_for_Satellite_Communications.ipynb\" target=\"_parent\"><img src=\"https://colab.research.google.com/assets/colab-badge.svg\" alt=\"Open In Colab\"/></a>"
      ]
    },
    {
      "cell_type": "markdown",
      "source": [
        "# Python Tutorial: Deriving G/T Requirement for Satellite Communications\n",
        "\n",
        "Name: John Hodge\n",
        "\n",
        "Date: 05/11/\n",
        "\n",
        "This tutorial guides you through calculating the G/T requirement for a phased array ground terminal in a satellite communication (SatCom) system."
      ],
      "metadata": {
        "id": "TzYIqGgLKLwF"
      }
    },
    {
      "cell_type": "markdown",
      "source": [
        "## Introduction\n",
        "\n",
        "Antenna Gain over Noise Temperature (G/T) is a crucial metric in satellite communications, especially when considering the performance of a phased array ground terminal. Here's an intuitive explanation of what G/T represents and why it's important:\n",
        "\n",
        "### Antenna Gain (G)\n",
        "1. **Definition**: Antenna gain measures how well an antenna can direct or focus radio frequency energy in a particular direction, compared to a hypothetical isotropic antenna that radiates energy equally in all directions. In simpler terms, it's a measure of the antenna's ability to \"concentrate\" signal power in a specific direction.\n",
        "2. **Phased Array**: A phased array antenna consists of multiple individual antenna elements, each of which can be controlled independently. By adjusting the phase and sometimes the amplitude of the signal at each element, the antenna can steer its beam in different directions without physically moving. This capability is especially valuable for tracking moving satellites.\n",
        "\n",
        "### Noise Temperature (T)\n",
        "1. **Definition**: Noise temperature is a way to measure the total noise within a system, expressed in terms of temperature. It essentially combines all the internal and external noise sources (like electronic noise from the receiver components and environmental noise) into a single metric that reflects how much these noise sources degrade the signal.\n",
        "2. **Significance**: Lower noise temperature means the system has less noise, leading to clearer and stronger reception of the signal from the satellite.\n",
        "\n",
        "### Gain over Noise Temperature (G/T)\n",
        "1. **Ratio**: G/T is a ratio that compares how much an antenna amplifies the signal to how much noise the system contributes. It's expressed in dB/K (decibels per Kelvin). A higher G/T ratio indicates a more effective antenna system for satellite communications.\n",
        "2. **Application**: In satellite communications, the G/T ratio helps determine the quality of the link between the satellite and the ground terminal. A higher G/T ratio means the ground station can effectively receive weaker signals from the satellite or can achieve higher data rates, which is particularly crucial for high-throughput applications such as broadband internet and broadcasting.\n",
        "\n",
        "### Practical Importance\n",
        "- **Optimization**: Designing a phased array ground terminal with an optimal G/T ratio involves balancing the gain (by efficiently focusing the beam towards the satellite) and minimizing the noise temperature (by using low-noise amplifiers and reducing interference).\n",
        "- **Dynamic Performance**: Since phased arrays can adjust their beam direction electronically, they can maintain an optimal G/T ratio by continuously aligning the beam with the satellite as it moves, which is essential for non-geostationary satellites.\n",
        "\n",
        "In summary, a high G/T ratio in a satellite communication system means better performance in terms of signal clarity and strength, enabling reliable and efficient satellite communications. This is particularly significant in dynamic environments where maintaining a consistent high-quality link is challenging."
      ],
      "metadata": {
        "id": "VeJXSAWGLQ08"
      }
    },
    {
      "cell_type": "markdown",
      "source": [
        "## Example G/T Design Problem\n",
        "\n",
        "To derive the G/T requirement for a hypothetical phased array ground terminal in satellite communications, you'll want to consider various factors that influence both the gain and the noise temperature of the system. This involves a combination of theoretical calculations and practical considerations based on the intended use and specifications of the satellite link.\n",
        "\n",
        "### Step-by-Step Derivation of G/T Requirement\n",
        "\n",
        "#### 1. Define System Parameters\n",
        "Start by defining the key parameters of your satellite communication link:\n",
        "- **\\( $E_b/N_0$ \\) (Bit Energy to Noise Density Ratio)**: Desired link quality, often given in dB. This parameter is crucial for determining the required signal-to-noise ratio (SNR) for achieving a certain bit error rate (BER).\n",
        "- **Data Rate ( $R$ )**: The transmission data rate in bits per second (bps).\n",
        "- **Carrier Frequency ( $f_c$ )**: Frequency of the carrier signal, which impacts the antenna design and atmospheric losses.\n",
        "- **Path Loss ( $L_p$ )**: Calculated based on the distance between the satellite and the ground terminal, and the frequency of operation.\n",
        "\n",
        "#### 2. Calculate Required \\( EIRP \\) (Effective Isotropic Radiated Power)\n",
        "The ( $ EIRP $ ) needed from the satellite can be estimated by rearranging the link budget equation:\n",
        "\n",
        "$EIRP = P_r + L_p + L_a - G_r $\n",
        "\n",
        "Where:\n",
        "- \\( $P_r$ \\) is the minimum required power at the receiver to achieve the desired \\( E_b/N_0 \\).\n",
        "- \\( $L_a$ \\) accounts for additional losses (atmospheric, polarization mismatch, etc.).\n",
        "- \\( $G_r$ \\) is the gain of the receiving antenna.\n",
        "\n",
        "#### 3. Establish \\( $E_b/N_0$ \\) and Convert to \\( $C/N$ \\)\n",
        "Convert the bit energy-to-noise density ratio to carrier-to-noise ratio:\n",
        "\n",
        "$ C/N = E_b/N_0 + 10 \\log_{10}(R) $\n",
        "\n",
        "where \\( R \\) is the data rate in Hz.\n",
        "\n",
        "#### 4. Estimate Receiver's Noise Figure and Temperature\n",
        "Estimate the noise figure ( $NF$ \\) of the receiver's electronics and convert it to noise temperature ( $T$ \\):\n",
        "\n",
        "$ T = (F - 1) \\times 290 \\text{ K} $\n",
        "\n",
        "where \\( $F$ \\) is the noise factor (\\ $ F = 10^{NF/10} $ \\) and 290 K is the standard reference temperature.\n",
        "\n",
        "#### 5. Calculate Antenna Gain ( $G$ \\)\n",
        "For a phased array, the gain can be approximated based on the number of elements ( $N$ \\) and the gain of each element ( $G_e$ ):\n",
        "\n",
        "$ G = G_e + 10 \\log_{10}(N) $\n",
        "\n",
        "#### 6. Combine All to Formulate \\( $G/T$ \\)\n",
        "Finally, calculate \\( $G/T$ \\):\n",
        "\n",
        "$ G/T = G - 10 \\log_{10}(T) $\n",
        "\n",
        "This gives you the \\( $G/T$ \\) in dB/K. Ensure that this value meets or exceeds the \\( $C/N$ \\) derived earlier to ensure adequate link quality.\n",
        "\n",
        "### Example Calculation\n",
        "- **Data Rate**: 100 Mbps\n",
        "- **Desired \\( $E_b/N_0$ \\)**: 10 dB\n",
        "- **Carrier Frequency**: 12 GHz\n",
        "- **Noise Figure**: 1 dB\n",
        "\n",
        "Calculate each parameter step-by-step to arrive at a required \\( G/T \\) for the system, ensuring the link budget closes and the communication link is reliable under the defined operating conditions."
      ],
      "metadata": {
        "id": "6juvgW4xLajN"
      }
    },
    {
      "cell_type": "markdown",
      "source": [
        "# Numerical Python-based Tutorial\n",
        "\n",
        "Let's use Python to perform a sample G/T requirement computation."
      ],
      "metadata": {
        "id": "lXNw2FhZLfb4"
      }
    },
    {
      "cell_type": "markdown",
      "source": [
        "## Initialize environment"
      ],
      "metadata": {
        "id": "ehQaWUy1KWgW"
      }
    },
    {
      "cell_type": "code",
      "execution_count": 15,
      "metadata": {
        "colab": {
          "base_uri": "https://localhost:8080/"
        },
        "id": "veBrDn9KKJVq",
        "outputId": "f1d0e9be-4409-43fc-8c9c-d5c1b67e24b0"
      },
      "outputs": [
        {
          "output_type": "stream",
          "name": "stdout",
          "text": [
            "Requirement already satisfied: numpy in /usr/local/lib/python3.10/dist-packages (1.25.2)\n"
          ]
        }
      ],
      "source": [
        "!pip install numpy"
      ]
    },
    {
      "cell_type": "code",
      "source": [
        "import numpy as np"
      ],
      "metadata": {
        "id": "gHnnz4OSKTxA"
      },
      "execution_count": 16,
      "outputs": []
    },
    {
      "cell_type": "markdown",
      "source": [
        "## Step 1: Define System Parameters\n",
        "\n",
        "First, we need to define the parameters that will influence our link budget and G/T calculations."
      ],
      "metadata": {
        "id": "nfwLEsKtKapU"
      }
    },
    {
      "cell_type": "code",
      "source": [
        "# Constants\n",
        "kB = 1.380649e-23  # Boltzmann's constant in J/K\n",
        "\n",
        "# System parameters\n",
        "Eb_N0_dB = 10  # Desired Eb/N0 in dB\n",
        "data_rate = 100e6  # Data rate in bps\n",
        "carrier_frequency = 12e9  # Carrier frequency in Hz\n",
        "noise_figure_dB = 1  # Noise figure of the receiver in dB\n",
        "T0 = 290  # Temperature of the receiver in K"
      ],
      "metadata": {
        "id": "jRGrq1rvKaO2"
      },
      "execution_count": 17,
      "outputs": []
    },
    {
      "cell_type": "markdown",
      "source": [
        "## Step 2: Calculate Required EIRP\n",
        "\n",
        "Assuming we have path losses and antenna gains, we calculate the required EIRP."
      ],
      "metadata": {
        "id": "Zy0vNbYQKgkv"
      }
    },
    {
      "cell_type": "code",
      "source": [
        "# Placeholder values for path loss and antenna gains\n",
        "path_loss_dB = 200  # Hypothetical path loss in dB\n",
        "antenna_gain_dB = 30  # Gain of the receiving antenna in dB\n",
        "\n",
        "# Convert Eb/N0 from dB to linear scale for calculation\n",
        "Eb_N0 = 10 ** (Eb_N0_dB / 10)\n",
        "\n",
        "# Calculate required carrier-to-noise ratio C/N\n",
        "C_N = Eb_N0 * data_rate * kB * T0  # C/N in linear scale\n",
        "\n",
        "# Convert C/N to dB\n",
        "C_N_dB = 10 * np.log10(C_N)\n",
        "\n",
        "# Calculate required EIRP\n",
        "required_EIRP = C_N_dB + path_loss_dB + noise_figure_dB - antenna_gain_dB\n",
        "print(f\"Required EIRP: {required_EIRP:.2f} dBW\")"
      ],
      "metadata": {
        "colab": {
          "base_uri": "https://localhost:8080/"
        },
        "id": "OW92aZB5Ke1l",
        "outputId": "5eef95a8-dbe4-48ff-f0d1-474b3cbea2fd"
      },
      "execution_count": 18,
      "outputs": [
        {
          "output_type": "stream",
          "name": "stdout",
          "text": [
            "Required EIRP: 57.02 dBW\n"
          ]
        }
      ]
    },
    {
      "cell_type": "markdown",
      "source": [
        "## Step 3: Estimate Receiver's Noise Temperature\n",
        "\n",
        "Calculate the noise temperature from the noise figure."
      ],
      "metadata": {
        "id": "YkFmgHl3KvnY"
      }
    },
    {
      "cell_type": "code",
      "source": [
        "# Convert noise figure to linear scale\n",
        "noise_factor = 10 ** (noise_figure_dB / 10)\n",
        "\n",
        "# Calculate noise temperature\n",
        "system_noise_temperature = (noise_factor - 1) * 290  # Standard reference temperature\n",
        "print(f\"Noise Temperature: {system_noise_temperature:.2f} K\")"
      ],
      "metadata": {
        "colab": {
          "base_uri": "https://localhost:8080/"
        },
        "id": "G4rKU4lWKkMZ",
        "outputId": "16edebf2-be6a-4bc5-df01-2c147bef49f3"
      },
      "execution_count": 19,
      "outputs": [
        {
          "output_type": "stream",
          "name": "stdout",
          "text": [
            "Noise Temperature: 75.09 K\n"
          ]
        }
      ]
    },
    {
      "cell_type": "markdown",
      "source": [
        "## Step 4: Calculate Antenna Array Gain\n",
        "\n",
        "Here, you can define the number of elements in the phased array and the gain of each."
      ],
      "metadata": {
        "id": "cLgpePnDK2xN"
      }
    },
    {
      "cell_type": "code",
      "source": [
        "# Number of elements in the phased array\n",
        "num_elements = 128\n",
        "\n",
        "# Gain of each element (assuming isotropic radiators for simplicity)\n",
        "element_gain_dB = 3\n",
        "\n",
        "# Total antenna gain assuming ideal combining\n",
        "total_gain_dB = element_gain_dB + 10 * np.log10(num_elements)\n",
        "print(f\"Total Antenna Gain: {total_gain_dB:.2f} dB\")"
      ],
      "metadata": {
        "colab": {
          "base_uri": "https://localhost:8080/"
        },
        "id": "7kqdcGX-KydF",
        "outputId": "cf94f9df-a7a4-41c1-93d9-3a09c2405cfe"
      },
      "execution_count": 20,
      "outputs": [
        {
          "output_type": "stream",
          "name": "stdout",
          "text": [
            "Total Antenna Gain: 24.07 dB\n"
          ]
        }
      ]
    },
    {
      "cell_type": "markdown",
      "source": [
        "## Step 5: Calculate G/T\n",
        "\n",
        "Combine the gain and noise temperature to find G/T."
      ],
      "metadata": {
        "id": "K8Q28O9qLCr3"
      }
    },
    {
      "cell_type": "code",
      "source": [
        "# Calculate G/T\n",
        "GT_dB_per_K = total_gain_dB - 10 * np.log10(system_noise_temperature)\n",
        "print(f\"G/T: {GT_dB_per_K:.2f} dB/K\")"
      ],
      "metadata": {
        "colab": {
          "base_uri": "https://localhost:8080/"
        },
        "id": "Y74T8koRK7YQ",
        "outputId": "7fc5defe-8d1f-4122-ae42-2a214c65c138"
      },
      "execution_count": 21,
      "outputs": [
        {
          "output_type": "stream",
          "name": "stdout",
          "text": [
            "G/T: 5.32 dB/K\n"
          ]
        }
      ]
    },
    {
      "cell_type": "markdown",
      "source": [
        "## Conclusion\n",
        "\n",
        "This Python tutorial shows the step-by-step calculation of the G/T requirement for a hypothetical phased array ground terminal for satellite communications. The values used in this example should be replaced with actual values from your specific scenario to get accurate results. This process is crucial for ensuring a reliable and effective communication link with a satellite."
      ],
      "metadata": {
        "id": "nx4sGe1aLKYb"
      }
    }
  ]
}